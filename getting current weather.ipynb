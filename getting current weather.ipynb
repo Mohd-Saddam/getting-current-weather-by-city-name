{
 "cells": [
  {
   "cell_type": "code",
   "execution_count": 5,
   "id": "7c1c9515",
   "metadata": {},
   "outputs": [
    {
     "name": "stdout",
     "output_type": "stream",
     "text": [
      "Enter the city name:Meerut\n",
      "Meerut\n",
      "Displaying Weater report for: Meerut\n",
      "200\n",
      "<Response [200]>\n",
      "Weather report: Meerut\n",
      "\n",
      "  \u001b[38;5;226m    \\   /    \u001b[0m Sunny\n",
      "  \u001b[38;5;226m     .-.     \u001b[0m \u001b[38;5;196m+48\u001b[0m(\u001b[38;5;196m53\u001b[0m) °C\u001b[0m     \n",
      "  \u001b[38;5;226m  ― (   ) ―  \u001b[0m \u001b[1m→\u001b[0m \u001b[38;5;202m30\u001b[0m km/h\u001b[0m      \n",
      "  \u001b[38;5;226m     `-’     \u001b[0m 10 km\u001b[0m          \n",
      "  \u001b[38;5;226m    /   \\    \u001b[0m 0.0 mm\u001b[0m         \n",
      "                                                       ┌─────────────┐                                                       \n",
      "┌──────────────────────────────┬───────────────────────┤  Tue 13 Jun ├───────────────────────┬──────────────────────────────┐\n",
      "│            Morning           │             Noon      └──────┬──────┘     Evening           │             Night            │\n",
      "├──────────────────────────────┼──────────────────────────────┼──────────────────────────────┼──────────────────────────────┤\n",
      "│ \u001b[38;5;226m    \\   /    \u001b[0m Sunny          │ \u001b[38;5;226m    \\   /    \u001b[0m Sunny          │ \u001b[38;5;226m    \\   /    \u001b[0m Sunny          │ \u001b[38;5;226m    \\   /    \u001b[0m Clear          │\n",
      "│ \u001b[38;5;226m     .-.     \u001b[0m \u001b[38;5;196m+40\u001b[0m(\u001b[38;5;196m41\u001b[0m) °C\u001b[0m     │ \u001b[38;5;226m     .-.     \u001b[0m \u001b[38;5;196m+47\u001b[0m(\u001b[38;5;196m52\u001b[0m) °C\u001b[0m     │ \u001b[38;5;226m     .-.     \u001b[0m \u001b[38;5;196m+43\u001b[0m(\u001b[38;5;196m45\u001b[0m) °C\u001b[0m     │ \u001b[38;5;226m     .-.     \u001b[0m \u001b[38;5;196m40\u001b[0m °C\u001b[0m          │\n",
      "│ \u001b[38;5;226m  ― (   ) ―  \u001b[0m \u001b[1m→\u001b[0m \u001b[38;5;202m30\u001b[0m-\u001b[38;5;196m35\u001b[0m km/h\u001b[0m   │ \u001b[38;5;226m  ― (   ) ―  \u001b[0m \u001b[1m→\u001b[0m \u001b[38;5;202m30\u001b[0m-\u001b[38;5;196m35\u001b[0m km/h\u001b[0m   │ \u001b[38;5;226m  ― (   ) ―  \u001b[0m \u001b[1m→\u001b[0m \u001b[38;5;196m35\u001b[0m-\u001b[38;5;196m40\u001b[0m km/h\u001b[0m   │ \u001b[38;5;226m  ― (   ) ―  \u001b[0m \u001b[1m→\u001b[0m \u001b[38;5;208m25\u001b[0m-\u001b[38;5;196m36\u001b[0m km/h\u001b[0m   │\n",
      "│ \u001b[38;5;226m     `-’     \u001b[0m 10 km\u001b[0m          │ \u001b[38;5;226m     `-’     \u001b[0m 10 km\u001b[0m          │ \u001b[38;5;226m     `-’     \u001b[0m 10 km\u001b[0m          │ \u001b[38;5;226m     `-’     \u001b[0m 10 km\u001b[0m          │\n",
      "│ \u001b[38;5;226m    /   \\    \u001b[0m 0.0 mm | 0%\u001b[0m    │ \u001b[38;5;226m    /   \\    \u001b[0m 0.0 mm | 0%\u001b[0m    │ \u001b[38;5;226m    /   \\    \u001b[0m 0.0 mm | 0%\u001b[0m    │ \u001b[38;5;226m    /   \\    \u001b[0m 0.0 mm | 0%\u001b[0m    │\n",
      "└──────────────────────────────┴──────────────────────────────┴──────────────────────────────┴──────────────────────────────┘\n",
      "                                                       ┌─────────────┐                                                       \n",
      "┌──────────────────────────────┬───────────────────────┤  Wed 14 Jun ├───────────────────────┬──────────────────────────────┐\n",
      "│            Morning           │             Noon      └──────┬──────┘     Evening           │             Night            │\n",
      "├──────────────────────────────┼──────────────────────────────┼──────────────────────────────┼──────────────────────────────┤\n",
      "│ \u001b[38;5;226m    \\   /    \u001b[0m Sunny          │ \u001b[38;5;226m    \\   /    \u001b[0m Sunny          │ \u001b[38;5;226m    \\   /    \u001b[0m Sunny          │ \u001b[38;5;226m    \\   /    \u001b[0m Clear          │\n",
      "│ \u001b[38;5;226m     .-.     \u001b[0m \u001b[38;5;196m40\u001b[0m °C\u001b[0m          │ \u001b[38;5;226m     .-.     \u001b[0m \u001b[38;5;196m+47\u001b[0m(\u001b[38;5;196m51\u001b[0m) °C\u001b[0m     │ \u001b[38;5;226m     .-.     \u001b[0m \u001b[38;5;196m42\u001b[0m °C\u001b[0m          │ \u001b[38;5;226m     .-.     \u001b[0m \u001b[38;5;202m+35\u001b[0m(\u001b[38;5;202m36\u001b[0m) °C\u001b[0m     │\n",
      "│ \u001b[38;5;226m  ― (   ) ―  \u001b[0m \u001b[1m→\u001b[0m \u001b[38;5;208m25\u001b[0m-\u001b[38;5;202m28\u001b[0m km/h\u001b[0m   │ \u001b[38;5;226m  ― (   ) ―  \u001b[0m \u001b[1m→\u001b[0m \u001b[38;5;202m30\u001b[0m-\u001b[38;5;196m34\u001b[0m km/h\u001b[0m   │ \u001b[38;5;226m  ― (   ) ―  \u001b[0m \u001b[1m↘\u001b[0m \u001b[38;5;214m21\u001b[0m-\u001b[38;5;208m24\u001b[0m km/h\u001b[0m   │ \u001b[38;5;226m  ― (   ) ―  \u001b[0m \u001b[1m↓\u001b[0m \u001b[38;5;208m27\u001b[0m-\u001b[38;5;196m33\u001b[0m km/h\u001b[0m   │\n",
      "│ \u001b[38;5;226m     `-’     \u001b[0m 10 km\u001b[0m          │ \u001b[38;5;226m     `-’     \u001b[0m 10 km\u001b[0m          │ \u001b[38;5;226m     `-’     \u001b[0m 10 km\u001b[0m          │ \u001b[38;5;226m     `-’     \u001b[0m 10 km\u001b[0m          │\n",
      "│ \u001b[38;5;226m    /   \\    \u001b[0m 0.0 mm | 0%\u001b[0m    │ \u001b[38;5;226m    /   \\    \u001b[0m 0.0 mm | 0%\u001b[0m    │ \u001b[38;5;226m    /   \\    \u001b[0m 0.0 mm | 0%\u001b[0m    │ \u001b[38;5;226m    /   \\    \u001b[0m 0.0 mm | 0%\u001b[0m    │\n",
      "└──────────────────────────────┴──────────────────────────────┴──────────────────────────────┴──────────────────────────────┘\n",
      "                                                       ┌─────────────┐                                                       \n",
      "┌──────────────────────────────┬───────────────────────┤  Thu 15 Jun ├───────────────────────┬──────────────────────────────┐\n",
      "│            Morning           │             Noon      └──────┬──────┘     Evening           │             Night            │\n",
      "├──────────────────────────────┼──────────────────────────────┼──────────────────────────────┼──────────────────────────────┤\n",
      "│ \u001b[38;5;226m    \\   /    \u001b[0m Sunny          │ \u001b[38;5;226m    \\   /    \u001b[0m Sunny          │ \u001b[38;5;226m    \\   /    \u001b[0m Sunny          │ \u001b[38;5;226m _`/\"\"\u001b[38;5;250m.-.    \u001b[0m Patchy rain po…│\n",
      "│ \u001b[38;5;226m     .-.     \u001b[0m \u001b[38;5;196m39\u001b[0m °C\u001b[0m          │ \u001b[38;5;226m     .-.     \u001b[0m \u001b[38;5;196m+45\u001b[0m(\u001b[38;5;196m49\u001b[0m) °C\u001b[0m     │ \u001b[38;5;226m     .-.     \u001b[0m \u001b[38;5;196m+43\u001b[0m(\u001b[38;5;196m46\u001b[0m) °C\u001b[0m     │ \u001b[38;5;226m  ,\\_\u001b[38;5;250m(   ).  \u001b[0m \u001b[38;5;202m+36\u001b[0m(\u001b[38;5;196m37\u001b[0m) °C\u001b[0m     │\n",
      "│ \u001b[38;5;226m  ― (   ) ―  \u001b[0m \u001b[1m→\u001b[0m \u001b[38;5;214m23\u001b[0m-\u001b[38;5;208m27\u001b[0m km/h\u001b[0m   │ \u001b[38;5;226m  ― (   ) ―  \u001b[0m \u001b[1m→\u001b[0m \u001b[38;5;208m26\u001b[0m-\u001b[38;5;202m30\u001b[0m km/h\u001b[0m   │ \u001b[38;5;226m  ― (   ) ―  \u001b[0m \u001b[1m→\u001b[0m \u001b[38;5;214m23\u001b[0m-\u001b[38;5;208m27\u001b[0m km/h\u001b[0m   │ \u001b[38;5;226m   /\u001b[38;5;250m(___(__) \u001b[0m \u001b[1m↘\u001b[0m \u001b[38;5;226m14\u001b[0m-\u001b[38;5;214m23\u001b[0m km/h\u001b[0m   │\n",
      "│ \u001b[38;5;226m     `-’     \u001b[0m 10 km\u001b[0m          │ \u001b[38;5;226m     `-’     \u001b[0m 10 km\u001b[0m          │ \u001b[38;5;226m     `-’     \u001b[0m 10 km\u001b[0m          │ \u001b[38;5;111m     ‘ ‘ ‘ ‘ \u001b[0m 10 km\u001b[0m          │\n",
      "│ \u001b[38;5;226m    /   \\    \u001b[0m 0.0 mm | 0%\u001b[0m    │ \u001b[38;5;226m    /   \\    \u001b[0m 0.0 mm | 0%\u001b[0m    │ \u001b[38;5;226m    /   \\    \u001b[0m 0.0 mm | 0%\u001b[0m    │ \u001b[38;5;111m    ‘ ‘ ‘ ‘  \u001b[0m 0.1 mm | 69%\u001b[0m   │\n",
      "└──────────────────────────────┴──────────────────────────────┴──────────────────────────────┴──────────────────────────────┘\n",
      "Location: Meerut, Uttar Pradesh, 250001, India [28.9963296,77.7061915]\n",
      "\n",
      "Follow \u001b[46m\u001b[30m@igor_chubin\u001b[0m for wttr.in updates\n",
      "\n"
     ]
    }
   ],
   "source": [
    "'''\n",
    "Weather forecast with Python\n",
    "By:Saddam\n",
    "'''\n",
    "\n",
    "#import the necessary package!\n",
    "import requests\n",
    "try:\n",
    "    #input the city name\n",
    "    city = input('Enter the city name:')\n",
    "    print(city)\n",
    "\n",
    "    # or you can also hard-code the value\n",
    "    # city = 'New Delhi'\n",
    "\n",
    "    #Display the message!\n",
    "    print('Displaying Weater report for: ' + city)\n",
    "\n",
    "    #fetch the weater details\n",
    "    url = 'https://wttr.in/{}'.format(city)\n",
    "    res = requests.get(url)\n",
    "    print(res.status_code)\n",
    "    if res.status_code == 200:\n",
    "        print(res)\n",
    "\n",
    "        #display the result!\n",
    "        print(res.text)\n",
    "    else:\n",
    "        print(\"Failed to retrieve weather data.\")\n",
    "except Exception as e:\n",
    "    print(\"Something went worng.\")"
   ]
  },
  {
   "cell_type": "code",
   "execution_count": 40,
   "id": "d6009ad4",
   "metadata": {},
   "outputs": [
    {
     "name": "stdout",
     "output_type": "stream",
     "text": [
      "Enter the city name:Jansath\n",
      "{'app_temp': 10.5, 'aqi': 69, 'city_name': 'Jānsath', 'clouds': 100, 'country_code': 'IN', 'datetime': '2023-06-13:14', 'dewpt': 10.5, 'dhi': 0, 'dni': 0, 'elev_angle': -3.01, 'ghi': 0, 'gust': 12.3125, 'h_angle': -90, 'lat': 29.32502, 'lon': 77.85044, 'ob_time': '2023-06-13 14:30', 'pod': 'n', 'precip': 0, 'pres': 967.5, 'rh': 17, 'slp': 992.3254, 'snow': 0, 'solar_rad': 0, 'sources': ['analysis'], 'state_code': '36', 'station': 'AV559', 'sunrise': '23:53', 'sunset': '13:50', 'temp': 40.3, 'timezone': 'Asia/Kolkata', 'ts': 1686666625, 'uv': 0, 'vis': 16, 'weather': {'description': 'Overcast clouds', 'code': 804, 'icon': 'c04n'}, 'wind_cdir': 'W', 'wind_cdir_full': 'west', 'wind_dir': 273, 'wind_spd': 7.296621}\n",
      "Temperature: 40.3°C\n",
      "atmospheric pressure (in hPa unit) = 967.5\n",
      "humidity (in percentage) = 17\n",
      "description = Overcast clouds\n"
     ]
    }
   ],
   "source": [
    "import requests\n",
    "\n",
    "API_KEY = \"8462b10dc5e94b938beed82ff1a17de8\"  # Replace with your Weatherbit API key\n",
    "\n",
    "def get_current_weather(city):\n",
    "    url = f\"https://api.weatherbit.io/v2.0/current?city={city}&key={API_KEY}\"\n",
    "    response = requests.get(url)\n",
    "    \n",
    "    if response.status_code == 200:\n",
    "        data = response.json()\n",
    "#         print(data)\n",
    "        data = data['data'][0]\n",
    "        print(data)\n",
    "#         temperature = weather['temp']\n",
    "#         description = weather['weather']['description']\n",
    "#         print(f\"Temperature: {temperature}°C\")\n",
    "#         print(f\"Description: {description}\")\n",
    "        temperature = data[\"temp\"]\n",
    "        pressure    = data[\"pres\"]\n",
    "        humidity    = data[\"rh\"]\n",
    "        weather     = data[\"weather\"]\n",
    "        description = data[\"weather\"][\"description\"]\n",
    "\n",
    "        print(f\"Temperature: {temperature}°C\")\n",
    "        print(f\"atmospheric pressure (in hPa unit) = {pressure}\")\n",
    "        print(f\"humidity (in percentage) = {humidity}\")\n",
    "        print(f\"description = {description}\")\n",
    "    else:\n",
    "        print(\"Error fetching weather data.\")\n",
    "\n",
    "# Example usage\n",
    "\n",
    "city_name =input(\"Enter the city name:\")  # Replace with the desired city name\n",
    "get_current_weather(city_name)"
   ]
  },
  {
   "cell_type": "code",
   "execution_count": 42,
   "id": "f9ad7796",
   "metadata": {},
   "outputs": [],
   "source": [
    "import requests\n",
    "from bs4 import BeautifulSoup\n"
   ]
  },
  {
   "cell_type": "code",
   "execution_count": 43,
   "id": "f217296d",
   "metadata": {},
   "outputs": [
    {
     "name": "stdout",
     "output_type": "stream",
     "text": [
      "Enter the city name:Jansath\n",
      "Location: Jansath, Uttar Pradesh\n",
      "Temperature: 37°C\n",
      "Condition: 37°C\n"
     ]
    }
   ],
   "source": [
    "location =input(\"Enter the city name:\")   # Replace with the location you want weather data for\n",
    "url = f\"https://www.google.com/search?q=weather+{location}\"\n",
    "response = requests.get(url)\n",
    "soup = BeautifulSoup(response.text, \"html.parser\")\n",
    "location_element = soup.find(\"span\", class_=\"BNeawe tAd8D AP7Wnd\")\n",
    "temperature_element = soup.find(\"div\", class_=\"BNeawe iBp4i AP7Wnd\")\n",
    "condition_element = soup.find(\"div\", class_=\"BNeawe iBp4i AP7Wnd\").find_next(\"div\", class_=\"BNeawe iBp4i AP7Wnd\")\n",
    "location = location_element.text\n",
    "temperature = temperature_element.text\n",
    "condition = condition_element.text\n",
    "print(\"Location:\", location)\n",
    "print(\"Temperature:\", temperature)\n",
    "print(\"Condition:\", condition)\n",
    "\n"
   ]
  },
  {
   "cell_type": "code",
   "execution_count": 58,
   "id": "00a97852",
   "metadata": {},
   "outputs": [
    {
     "name": "stdout",
     "output_type": "stream",
     "text": [
      "Enter the city name\n",
      "Jansath\n",
      "Searching in google......\n",
      "\n",
      "Data is found👇🏻\n",
      "Weather\n",
      "Tuesday, 8:00 pm\n",
      "Clear with periodic clouds\n",
      "37°C\n",
      "wind_speed: 19 km/h\n",
      "Humidity: 32%\n"
     ]
    }
   ],
   "source": [
    "#Weather report\n",
    "#Importing Beautifulsoup Library\n",
    "from bs4 import BeautifulSoup\n",
    "#importing requests module\n",
    "import requests\n",
    "\n",
    "#header user agent is a string allows the server to identify the O.S and application\n",
    "# Change header accordingly as per OS like for window user-headers = {'User-Agent': 'Mozilla/5.0 (Windows NT 10.0; Win64; x64) AppleWebKit/537.36 (KHTML, like Gecko) Chrome/58.0.3029.110 Safari/537.3'}\n",
    "\n",
    "headers = {'User-Agent': 'Mozilla/5.0 (Macintosh; Intel Mac OS X 10_15_5) AppleWebKit/537.36 (KHTML, like Gecko) Chrome/91.0.4472.124 Safari/537.36'}#defining the weather function\n",
    "\n",
    "def weather(city):\n",
    "    # Replaces the space with + operator\n",
    "    city=city.replace(\" \",\"+\")\n",
    "    #requests and get function to get the information from the URL provided\n",
    "    res=requests.get(f\"https://www.google.com/search?q={city}&oq={city}\"\n",
    "                    f\"&aqs=chrome.0.35i39l2j0l4j46j69i60.6128j1j7&sourceid=\"\n",
    "                           f\"chrome&ie=UTF-8\",headers=headers)\n",
    "    #searches the information from google\n",
    "    print(\"Searching in google......\\n\")\n",
    "    #Navigates on that particular website ,extract and store the data in soup object\n",
    "    soup = BeautifulSoup(res.text,'html.parser')\n",
    "#     print(soup)\n",
    "    #gets the information of location \n",
    "    location = soup.select('#wob_loc')[0].getText().strip()\n",
    "    #gets the information of time\n",
    "    time = soup.select('#wob_dts')[0].getText().strip()\n",
    "    #gets the desired information\n",
    "    info = soup.select('#wob_dc')[0].getText().strip()\n",
    "    #gets the weather information\n",
    "    weather = soup.select('#wob_tm')[0].getText().strip()\n",
    "    wind_speed = soup.select('#wob_ws')[0].getText().strip()\n",
    "    Humidity = soup.select('#wob_hm')[0].getText().strip()\n",
    "\n",
    "    \n",
    "\n",
    "    #prints location\n",
    "    print(\"Data is found👇🏻\")\n",
    "    print(location)\n",
    "    #prints time\n",
    "    print(time)\n",
    "    #prints info \n",
    "    print(info)\n",
    "    #prints the weather in degree celcius\n",
    "    print(weather+\"°C\")\n",
    "    print(\"wind_speed:\",wind_speed)\n",
    "    print(\"Humidity:\",Humidity)\n",
    "\n",
    "    #enter the city name\n",
    "print(\"Enter the city name\")\n",
    "city=input()\n",
    "\n",
    "#Concatenating the city name and weather \n",
    "city=city+\" weather\"\n",
    "\n",
    "#passing the city object to weather function\n",
    "weather(city)"
   ]
  },
  {
   "cell_type": "code",
   "execution_count": 31,
   "id": "1acacb09",
   "metadata": {},
   "outputs": [],
   "source": [
    "t = (1,(2,3),[4,5])\n",
    "t[2][0]='a'"
   ]
  },
  {
   "cell_type": "code",
   "execution_count": 7,
   "id": "ab16a5c7",
   "metadata": {},
   "outputs": [
    {
     "name": "stdout",
     "output_type": "stream",
     "text": [
      "(1, (2, 3), ['a', 5])\n"
     ]
    }
   ],
   "source": [
    "print(t)"
   ]
  },
  {
   "cell_type": "code",
   "execution_count": 26,
   "id": "cc62810a",
   "metadata": {},
   "outputs": [
    {
     "name": "stdout",
     "output_type": "stream",
     "text": [
      "[3, 5]\n",
      "[9, 25]\n"
     ]
    }
   ],
   "source": [
    "numbers = [1, 2, 3, 4, 5]\n",
    "print(numbers[::-2][1::-1])\n",
    "\n",
    "result = list(map(lambda x: x**2, numbers[::-2][1::-1]))\n",
    "print(result)"
   ]
  },
  {
   "cell_type": "code",
   "execution_count": 11,
   "id": "d0f8feef",
   "metadata": {},
   "outputs": [],
   "source": [
    "class CustomException (Exception):\n",
    "\n",
    "    pass\n",
    "\n",
    "class Test:\n",
    "\n",
    "    def __init__(self, value):\n",
    "        self.value = value\n",
    "\n",
    "        if value < 0:\n",
    "\n",
    "            raise CustomException(\"Value must be positive.\") \n",
    "\n",
    "        try:\n",
    "\n",
    "            t = Test(-1)\n",
    "\n",
    "        except CustomException as e: \n",
    "            print(\"Caught exception: \", e)\n",
    "\n",
    "        else: \n",
    "            print(\"No exception caught.\")"
   ]
  },
  {
   "cell_type": "code",
   "execution_count": 12,
   "id": "00e8873d",
   "metadata": {},
   "outputs": [
    {
     "name": "stdout",
     "output_type": "stream",
     "text": [
      "ab:cd\n"
     ]
    }
   ],
   "source": [
    "list1 = [['a', 'b'], ['c', 'd']]\n",
    "\n",
    "result = ':'.join([''.join(sublist) for sublist in list1])\n",
    "print(result)\n"
   ]
  },
  {
   "cell_type": "code",
   "execution_count": 17,
   "id": "fd905dd3",
   "metadata": {},
   "outputs": [
    {
     "name": "stdout",
     "output_type": "stream",
     "text": [
      "{'first': 'apple', 'second': 'mango', 1: 3, 2: 4}\n",
      "4\n"
     ]
    }
   ],
   "source": [
    "dict1 = {'first': 'apple', 'second': 'mango'}\n",
    "dict2 = {1: 3, 2: 4}\n",
    "\n",
    "dict1.update(dict2)\n",
    "print(dict1)\n",
    "print(dict1[2])\n"
   ]
  },
  {
   "cell_type": "code",
   "execution_count": 18,
   "id": "196778d8",
   "metadata": {},
   "outputs": [
    {
     "name": "stdout",
     "output_type": "stream",
     "text": [
      "['Honda', 'BMW', 'Ferrari', 'Toyota']\n"
     ]
    }
   ],
   "source": [
    "class CarList:\n",
    "    def __init__(self, name):\n",
    "        self.name = name\n",
    "\n",
    "    @staticmethod\n",
    "    def get_cars():\n",
    "        cars = ['Honda', 'BMW', 'Ferrari', 'Toyota']\n",
    "        return cars\n",
    "\n",
    "    def start(self):\n",
    "        print(self.get_cars())\n",
    "\n",
    "car_list = CarList('myCars')\n",
    "car_list.start()\n"
   ]
  },
  {
   "cell_type": "code",
   "execution_count": 19,
   "id": "1ca8f058",
   "metadata": {},
   "outputs": [
    {
     "name": "stdout",
     "output_type": "stream",
     "text": [
      "{'A': [1, 2, 3, 4], 'B': {'X': 4, 'Y': 5, 'Z': 6}}\n"
     ]
    }
   ],
   "source": [
    "original_dict = {\"A\": [1, 2, 3], \"B\": {\"X\": 4, \"Y\": 5}}\n",
    "new_dict = dict(original_dict)\n",
    "new_dict[\"A\"].append(4)\n",
    "new_dict[\"B\"][\"Z\"] = 6\n",
    "\n",
    "print(new_dict)\n"
   ]
  },
  {
   "cell_type": "code",
   "execution_count": 20,
   "id": "0a8cc23b",
   "metadata": {},
   "outputs": [
    {
     "name": "stdout",
     "output_type": "stream",
     "text": [
      "{'a': 1, 'b': 2, 'c': 3}\n"
     ]
    }
   ],
   "source": [
    "dict_1 = {'a': 1, 'b': 2, 'c': 3}\n",
    "dict_2 = dict.fromkeys(['a', 'b', 'c'], 0)\n",
    "dict_3 = {}\n",
    "\n",
    "for key in dict_1:\n",
    "    dict_3[key] = dict_1[key] + dict_2[key]\n",
    "\n",
    "print(dict_3)\n"
   ]
  },
  {
   "cell_type": "code",
   "execution_count": 21,
   "id": "66ccda92",
   "metadata": {},
   "outputs": [
    {
     "name": "stdout",
     "output_type": "stream",
     "text": [
      "ABC\n"
     ]
    }
   ],
   "source": [
    "class A:\n",
    "    def __init__(self):\n",
    "        self.value = \"A\"\n",
    "\n",
    "    def print_value(self):\n",
    "        print(self.value)\n",
    "\n",
    "\n",
    "class B(A):\n",
    "    def __init__(self):\n",
    "        super().__init__()\n",
    "        self.value += \"B\"\n",
    "\n",
    "\n",
    "class C(B):\n",
    "    def __init__(self):\n",
    "        super().__init__()\n",
    "        self.value += \"C\"\n",
    "\n",
    "\n",
    "obj = C()\n",
    "obj.print_value()\n"
   ]
  },
  {
   "cell_type": "code",
   "execution_count": 25,
   "id": "ecf8805c",
   "metadata": {},
   "outputs": [
    {
     "name": "stdout",
     "output_type": "stream",
     "text": [
      "Please enter the amount you want to convert: 1\n",
      "Please enter the currency code that has to be converted: usd\n",
      "Please enter the currency code to convert: inr\n",
      "You are converting 1 USD to INR .\n",
      "The converted rate is: 82.45825602968459\n"
     ]
    }
   ],
   "source": [
    "from forex_python.converter import CurrencyRates\n",
    "\n",
    "cr = CurrencyRates()\n",
    "\n",
    "amount = int(input(\"Please enter the amount you want to convert: \"))\n",
    "\n",
    "from_currency = input(\"Please enter the currency code that has to be converted: \").upper()\n",
    "\n",
    "to_currency = input(\"Please enter the currency code to convert: \").upper()\n",
    "\n",
    "print(\"You are converting\", amount, from_currency, \"to\", to_currency,\".\")\n",
    "\n",
    "output = cr.convert(from_currency, to_currency, amount)\n",
    "\n",
    "print(\"The converted rate is:\", output)"
   ]
  },
  {
   "cell_type": "code",
   "execution_count": 23,
   "id": "2763bf19",
   "metadata": {},
   "outputs": [
    {
     "name": "stdout",
     "output_type": "stream",
     "text": [
      "Collecting forex_python\n",
      "  Downloading forex_python-1.8-py3-none-any.whl (8.2 kB)\n",
      "Requirement already satisfied: requests in /Library/Frameworks/Python.framework/Versions/3.11/lib/python3.11/site-packages (from forex_python) (2.31.0)\n",
      "Collecting simplejson (from forex_python)\n",
      "  Downloading simplejson-3.19.1-cp311-cp311-macosx_11_0_arm64.whl (74 kB)\n",
      "\u001b[2K     \u001b[90m━━━━━━━━━━━━━━━━━━━━━━━━━━━━━━━━━━━━━━━━\u001b[0m \u001b[32m74.5/74.5 kB\u001b[0m \u001b[31m4.4 MB/s\u001b[0m eta \u001b[36m0:00:00\u001b[0m\n",
      "\u001b[?25hRequirement already satisfied: charset-normalizer<4,>=2 in /Library/Frameworks/Python.framework/Versions/3.11/lib/python3.11/site-packages (from requests->forex_python) (3.1.0)\n",
      "Requirement already satisfied: idna<4,>=2.5 in /Library/Frameworks/Python.framework/Versions/3.11/lib/python3.11/site-packages (from requests->forex_python) (3.4)\n",
      "Requirement already satisfied: urllib3<3,>=1.21.1 in /Library/Frameworks/Python.framework/Versions/3.11/lib/python3.11/site-packages (from requests->forex_python) (2.0.2)\n",
      "Requirement already satisfied: certifi>=2017.4.17 in /Library/Frameworks/Python.framework/Versions/3.11/lib/python3.11/site-packages (from requests->forex_python) (2023.5.7)\n",
      "Installing collected packages: simplejson, forex_python\n",
      "Successfully installed forex_python-1.8 simplejson-3.19.1\n"
     ]
    }
   ],
   "source": [
    "!pip install forex_python"
   ]
  },
  {
   "cell_type": "code",
   "execution_count": null,
   "id": "e9c8c262",
   "metadata": {},
   "outputs": [],
   "source": []
  }
 ],
 "metadata": {
  "kernelspec": {
   "display_name": "Python 3 (ipykernel)",
   "language": "python",
   "name": "python3"
  },
  "language_info": {
   "codemirror_mode": {
    "name": "ipython",
    "version": 3
   },
   "file_extension": ".py",
   "mimetype": "text/x-python",
   "name": "python",
   "nbconvert_exporter": "python",
   "pygments_lexer": "ipython3",
   "version": "3.11.0"
  }
 },
 "nbformat": 4,
 "nbformat_minor": 5
}
